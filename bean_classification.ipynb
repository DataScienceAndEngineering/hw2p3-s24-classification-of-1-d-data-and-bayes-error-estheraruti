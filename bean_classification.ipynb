{
 "cells": [
  {
   "cell_type": "markdown",
   "metadata": {},
   "source": [
    "## HW1 P6: Classification of 1-D data and Bayes Error"
   ]
  },
  {
   "cell_type": "markdown",
   "metadata": {},
   "source": [
    "#### a. For a given T write down the theoretical expression (in terms of integrals) for the probability that you will classify a point as bean type A when it is bean type B and similarly that it is bean type B when it is bean type A."
   ]
  },
  {
   "cell_type": "markdown",
   "metadata": {},
   "source": [
    "To find the probability of classifiying as A given that it is actually B:\n",
    "\n",
    "$$\n",
    "P(C = A | C =B) = \\int_{-T}^{T} P(A \\cap B) / P(B) \\, dx\n",
    "$$"
   ]
  },
  {
   "cell_type": "markdown",
   "metadata": {},
   "source": [
    "To find the probability of classifiying as B given that it is actually A:\n",
    "\n",
    "$$\n",
    "P(C = B | C =A) = \\int_{-T}^{T} P(A \\cap B) / P(A) \\, dx\n",
    "$$"
   ]
  },
  {
   "cell_type": "markdown",
   "metadata": {},
   "source": [
    "#### b. In python just using numerical functions (you can take 1000 data points from min of weight x=1 to x=8) compute the theoretical probabilities from part a. Use matplotlib to make a curves showing the probability of classifying something class A assuming it is really class B (C=B), in other words P(C=A|C=B) is the figure y-axis, as a function of T, the figure x-axis. Similarly plot P(C=B∣C=A) as a function of T. Putting these together since P(A) = P(B) = 1/2, adding the curves and dividing by 2 you get the probability of miss-classification or Bayes error as a function of T. Plot that as well."
   ]
  },
  {
   "cell_type": "code",
   "execution_count": 3,
   "metadata": {},
   "outputs": [],
   "source": [
    "# importing necessary libaries\n",
    "import numpy as np\n",
    "import matplotlib.pyplot as plt"
   ]
  },
  {
   "cell_type": "code",
   "execution_count": 6,
   "metadata": {},
   "outputs": [
    {
     "data": {
      "text/plain": [
       "array([3, 4, 7, 5, 3, 7, 3, 7, 8])"
      ]
     },
     "execution_count": 6,
     "metadata": {},
     "output_type": "execute_result"
    }
   ],
   "source": [
    "# creating data points for weights\n",
    "points = np.random.randint(1,9, size=100)\n",
    "\n",
    "# check what it looks like\n",
    "points[1:10]"
   ]
  },
  {
   "cell_type": "code",
   "execution_count": 7,
   "metadata": {},
   "outputs": [],
   "source": [
    "# defining means and standard deviations\n",
    "\n",
    "# mean of a\n",
    "mean_a = 5\n",
    "\n",
    "# std of a\n",
    "std_a = 2\n",
    "\n",
    "# mean of b\n",
    "mean_b = 4\n",
    "\n",
    "# std of b\n",
    "std_b = 1.4"
   ]
  },
  {
   "cell_type": "code",
   "execution_count": null,
   "metadata": {},
   "outputs": [],
   "source": [
    "# compute the probability of A and B\n",
    "\n",
    "\n",
    "# compute the probability of A\n",
    "\n",
    "\n",
    "# compute the probability of B\n",
    "\n",
    "    "
   ]
  },
  {
   "cell_type": "code",
   "execution_count": null,
   "metadata": {},
   "outputs": [],
   "source": [
    "# computing probability for classifying A given that it is actually B\n",
    "\n",
    "p_anb = []\n",
    "\n",
    "for x in points:"
   ]
  },
  {
   "cell_type": "code",
   "execution_count": null,
   "metadata": {},
   "outputs": [],
   "source": [
    "# computing probability for classifying B given that it is actually A\n",
    "p_bna = []\n",
    "\n",
    "for x in points:\n",
    "    "
   ]
  },
  {
   "cell_type": "code",
   "execution_count": null,
   "metadata": {},
   "outputs": [],
   "source": [
    "# plot for probability curves"
   ]
  },
  {
   "cell_type": "markdown",
   "metadata": {},
   "source": [
    "#### c. Use the numpy random.randn to simulate 10000 data points, 5,000 from bean type A and 5,000 from bean type B. You can now pick 1000 values of T using linspace between T=1 and T=8. For each of these you can compute the miss classification rate. Make the figure. These should match closely your results for b above."
   ]
  },
  {
   "cell_type": "code",
   "execution_count": null,
   "metadata": {},
   "outputs": [],
   "source": [
    "# simulate 10,000 points for A and B\n",
    "\n",
    "a_points = np.random.randn()\n",
    "b_points = np.random.randn()"
   ]
  }
 ],
 "metadata": {
  "kernelspec": {
   "display_name": "Python 3",
   "language": "python",
   "name": "python3"
  },
  "language_info": {
   "codemirror_mode": {
    "name": "ipython",
    "version": 3
   },
   "file_extension": ".py",
   "mimetype": "text/x-python",
   "name": "python",
   "nbconvert_exporter": "python",
   "pygments_lexer": "ipython3",
   "version": "3.10.13"
  }
 },
 "nbformat": 4,
 "nbformat_minor": 2
}
